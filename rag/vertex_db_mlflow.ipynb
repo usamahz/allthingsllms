{
 "cells": [
  {
   "cell_type": "code",
   "execution_count": 1,
   "metadata": {},
   "outputs": [
    {
     "name": "stdout",
     "output_type": "stream",
     "text": [
      "Collecting google-cloud-mlflow\n",
      "  Downloading google_cloud_mlflow-0.0.6-py3-none-any.whl.metadata (3.8 kB)\n",
      "Requirement already satisfied: google-cloud-aiplatform~=1.7 in /Users/usamah/src/agent/agent/lib/python3.12/site-packages (from google-cloud-mlflow) (1.66.0)\n",
      "Collecting mlflow~=1.22 (from google-cloud-mlflow)\n",
      "  Downloading mlflow-1.30.1-py3-none-any.whl.metadata (11 kB)\n",
      "Requirement already satisfied: google-cloud-build==3.* in /Users/usamah/src/agent/agent/lib/python3.12/site-packages (from google-cloud-mlflow) (3.24.2)\n",
      "Collecting google-cloud-storage==1.* (from google-cloud-mlflow)\n",
      "  Downloading google_cloud_storage-1.44.0-py2.py3-none-any.whl.metadata (5.9 kB)\n",
      "Requirement already satisfied: google-api-core!=2.0.*,!=2.1.*,!=2.10.*,!=2.2.*,!=2.3.*,!=2.4.*,!=2.5.*,!=2.6.*,!=2.7.*,!=2.8.*,!=2.9.*,<3.0.0dev,>=1.34.1 in /Users/usamah/src/agent/agent/lib/python3.12/site-packages (from google-api-core[grpc]!=2.0.*,!=2.1.*,!=2.10.*,!=2.2.*,!=2.3.*,!=2.4.*,!=2.5.*,!=2.6.*,!=2.7.*,!=2.8.*,!=2.9.*,<3.0.0dev,>=1.34.1->google-cloud-build==3.*->google-cloud-mlflow) (2.19.2)\n",
      "Requirement already satisfied: google-auth!=2.24.0,!=2.25.0,<3.0.0dev,>=2.14.1 in /Users/usamah/src/agent/agent/lib/python3.12/site-packages (from google-cloud-build==3.*->google-cloud-mlflow) (2.34.0)\n",
      "Requirement already satisfied: grpc-google-iam-v1<1.0.0dev,>=0.12.4 in /Users/usamah/src/agent/agent/lib/python3.12/site-packages (from google-cloud-build==3.*->google-cloud-mlflow) (0.13.1)\n",
      "Requirement already satisfied: proto-plus<2.0.0dev,>=1.22.3 in /Users/usamah/src/agent/agent/lib/python3.12/site-packages (from google-cloud-build==3.*->google-cloud-mlflow) (1.24.0)\n",
      "Requirement already satisfied: protobuf!=4.21.0,!=4.21.1,!=4.21.2,!=4.21.3,!=4.21.4,!=4.21.5,<6.0.0dev,>=3.20.2 in /Users/usamah/src/agent/agent/lib/python3.12/site-packages (from google-cloud-build==3.*->google-cloud-mlflow) (4.25.4)\n",
      "Requirement already satisfied: requests<3.0.0dev,>=2.18.0 in /Users/usamah/src/agent/agent/lib/python3.12/site-packages (from google-cloud-storage==1.*->google-cloud-mlflow) (2.32.3)\n",
      "Requirement already satisfied: six in /Users/usamah/src/agent/agent/lib/python3.12/site-packages (from google-cloud-storage==1.*->google-cloud-mlflow) (1.16.0)\n",
      "Requirement already satisfied: google-cloud-core<3.0dev,>=1.6.0 in /Users/usamah/src/agent/agent/lib/python3.12/site-packages (from google-cloud-storage==1.*->google-cloud-mlflow) (2.4.1)\n",
      "Requirement already satisfied: google-resumable-media<3.0dev,>=1.3.0 in /Users/usamah/src/agent/agent/lib/python3.12/site-packages (from google-cloud-storage==1.*->google-cloud-mlflow) (2.7.2)\n",
      "Requirement already satisfied: packaging>=14.3 in /Users/usamah/src/agent/agent/lib/python3.12/site-packages (from google-cloud-aiplatform~=1.7->google-cloud-mlflow) (24.1)\n",
      "Requirement already satisfied: google-cloud-bigquery!=3.20.0,<4.0.0dev,>=1.15.0 in /Users/usamah/src/agent/agent/lib/python3.12/site-packages (from google-cloud-aiplatform~=1.7->google-cloud-mlflow) (3.25.0)\n",
      "Requirement already satisfied: google-cloud-resource-manager<3.0.0dev,>=1.3.3 in /Users/usamah/src/agent/agent/lib/python3.12/site-packages (from google-cloud-aiplatform~=1.7->google-cloud-mlflow) (1.12.5)\n",
      "Requirement already satisfied: shapely<3.0.0dev in /Users/usamah/src/agent/agent/lib/python3.12/site-packages (from google-cloud-aiplatform~=1.7->google-cloud-mlflow) (2.0.6)\n",
      "Requirement already satisfied: pydantic<3 in /Users/usamah/src/agent/agent/lib/python3.12/site-packages (from google-cloud-aiplatform~=1.7->google-cloud-mlflow) (2.9.1)\n",
      "Requirement already satisfied: docstring-parser<1 in /Users/usamah/src/agent/agent/lib/python3.12/site-packages (from google-cloud-aiplatform~=1.7->google-cloud-mlflow) (0.16)\n",
      "Requirement already satisfied: click<9,>=7.0 in /Users/usamah/src/agent/agent/lib/python3.12/site-packages (from mlflow~=1.22->google-cloud-mlflow) (8.1.7)\n",
      "Collecting cloudpickle<3 (from mlflow~=1.22->google-cloud-mlflow)\n",
      "  Downloading cloudpickle-2.2.1-py3-none-any.whl.metadata (6.9 kB)\n",
      "Collecting databricks-cli<1,>=0.8.7 (from mlflow~=1.22->google-cloud-mlflow)\n",
      "  Downloading databricks_cli-0.18.0-py2.py3-none-any.whl.metadata (4.0 kB)\n",
      "Collecting entrypoints<1 (from mlflow~=1.22->google-cloud-mlflow)\n",
      "  Downloading entrypoints-0.4-py3-none-any.whl.metadata (2.6 kB)\n",
      "Requirement already satisfied: gitpython<4,>=2.1.0 in /Users/usamah/src/agent/agent/lib/python3.12/site-packages (from mlflow~=1.22->google-cloud-mlflow) (3.1.43)\n",
      "Requirement already satisfied: pyyaml<7,>=5.1 in /Users/usamah/src/agent/agent/lib/python3.12/site-packages (from mlflow~=1.22->google-cloud-mlflow) (6.0.2)\n",
      "Collecting pytz<2023 (from mlflow~=1.22->google-cloud-mlflow)\n",
      "  Downloading pytz-2022.7.1-py2.py3-none-any.whl.metadata (21 kB)\n",
      "Collecting packaging>=14.3 (from google-cloud-aiplatform~=1.7->google-cloud-mlflow)\n",
      "  Downloading packaging-21.3-py3-none-any.whl.metadata (15 kB)\n",
      "Collecting importlib-metadata!=4.7.0,<6,>=3.7.0 (from mlflow~=1.22->google-cloud-mlflow)\n",
      "  Downloading importlib_metadata-5.2.0-py3-none-any.whl.metadata (5.0 kB)\n",
      "Requirement already satisfied: sqlparse<1,>=0.4.0 in /Users/usamah/src/agent/agent/lib/python3.12/site-packages (from mlflow~=1.22->google-cloud-mlflow) (0.5.1)\n",
      "Requirement already satisfied: alembic<2 in /Users/usamah/src/agent/agent/lib/python3.12/site-packages (from mlflow~=1.22->google-cloud-mlflow) (1.13.2)\n",
      "Collecting docker<7,>=4.0.0 (from mlflow~=1.22->google-cloud-mlflow)\n",
      "  Downloading docker-6.1.3-py3-none-any.whl.metadata (3.5 kB)\n",
      "Requirement already satisfied: Flask<3 in /Users/usamah/src/agent/agent/lib/python3.12/site-packages (from mlflow~=1.22->google-cloud-mlflow) (2.2.5)\n",
      "Requirement already satisfied: numpy<2 in /Users/usamah/src/agent/agent/lib/python3.12/site-packages (from mlflow~=1.22->google-cloud-mlflow) (1.26.4)\n",
      "Requirement already satisfied: scipy<2 in /Users/usamah/src/agent/agent/lib/python3.12/site-packages (from mlflow~=1.22->google-cloud-mlflow) (1.14.1)\n",
      "Collecting pandas<2 (from mlflow~=1.22->google-cloud-mlflow)\n",
      "  Downloading pandas-1.5.3.tar.gz (5.2 MB)\n",
      "\u001b[2K     \u001b[90m━━━━━━━━━━━━━━━━━━━━━━━━━━━━━━━━━━━━━━━━\u001b[0m \u001b[32m5.2/5.2 MB\u001b[0m \u001b[31m14.7 MB/s\u001b[0m eta \u001b[36m0:00:00\u001b[0ma \u001b[36m0:00:01\u001b[0m\n",
      "\u001b[?25h  Installing build dependencies ... \u001b[?25ldone\n",
      "\u001b[?25h  Getting requirements to build wheel ... \u001b[?25ldone\n",
      "\u001b[?25h  Preparing metadata (pyproject.toml) ... \u001b[?25ldone\n",
      "\u001b[?25hCollecting prometheus-flask-exporter<1 (from mlflow~=1.22->google-cloud-mlflow)\n",
      "  Downloading prometheus_flask_exporter-0.23.1-py3-none-any.whl.metadata (19 kB)\n",
      "Collecting querystring-parser<2 (from mlflow~=1.22->google-cloud-mlflow)\n",
      "  Downloading querystring_parser-1.2.4-py2.py3-none-any.whl.metadata (559 bytes)\n",
      "Requirement already satisfied: sqlalchemy<2,>=1.4.0 in /Users/usamah/src/agent/agent/lib/python3.12/site-packages (from mlflow~=1.22->google-cloud-mlflow) (1.4.53)\n",
      "Collecting gunicorn<21 (from mlflow~=1.22->google-cloud-mlflow)\n",
      "  Downloading gunicorn-20.1.0-py3-none-any.whl.metadata (3.8 kB)\n",
      "Requirement already satisfied: Mako in /Users/usamah/src/agent/agent/lib/python3.12/site-packages (from alembic<2->mlflow~=1.22->google-cloud-mlflow) (1.3.5)\n",
      "Requirement already satisfied: typing-extensions>=4 in /Users/usamah/src/agent/agent/lib/python3.12/site-packages (from alembic<2->mlflow~=1.22->google-cloud-mlflow) (4.12.2)\n",
      "Requirement already satisfied: pyjwt>=1.7.0 in /Users/usamah/src/agent/agent/lib/python3.12/site-packages (from databricks-cli<1,>=0.8.7->mlflow~=1.22->google-cloud-mlflow) (2.9.0)\n",
      "Requirement already satisfied: oauthlib>=3.1.0 in /Users/usamah/src/agent/agent/lib/python3.12/site-packages (from databricks-cli<1,>=0.8.7->mlflow~=1.22->google-cloud-mlflow) (3.2.2)\n",
      "Requirement already satisfied: tabulate>=0.7.7 in /Users/usamah/src/agent/agent/lib/python3.12/site-packages (from databricks-cli<1,>=0.8.7->mlflow~=1.22->google-cloud-mlflow) (0.9.0)\n",
      "Requirement already satisfied: urllib3<3,>=1.26.7 in /Users/usamah/src/agent/agent/lib/python3.12/site-packages (from databricks-cli<1,>=0.8.7->mlflow~=1.22->google-cloud-mlflow) (1.26.20)\n",
      "Collecting websocket-client>=0.32.0 (from docker<7,>=4.0.0->mlflow~=1.22->google-cloud-mlflow)\n",
      "  Using cached websocket_client-1.8.0-py3-none-any.whl.metadata (8.0 kB)\n",
      "Requirement already satisfied: Werkzeug>=2.2.2 in /Users/usamah/src/agent/agent/lib/python3.12/site-packages (from Flask<3->mlflow~=1.22->google-cloud-mlflow) (2.2.3)\n",
      "Requirement already satisfied: Jinja2>=3.0 in /Users/usamah/src/agent/agent/lib/python3.12/site-packages (from Flask<3->mlflow~=1.22->google-cloud-mlflow) (3.1.4)\n",
      "Requirement already satisfied: itsdangerous>=2.0 in /Users/usamah/src/agent/agent/lib/python3.12/site-packages (from Flask<3->mlflow~=1.22->google-cloud-mlflow) (2.2.0)\n",
      "Requirement already satisfied: gitdb<5,>=4.0.1 in /Users/usamah/src/agent/agent/lib/python3.12/site-packages (from gitpython<4,>=2.1.0->mlflow~=1.22->google-cloud-mlflow) (4.0.11)\n",
      "Requirement already satisfied: googleapis-common-protos<2.0.dev0,>=1.56.2 in /Users/usamah/src/agent/agent/lib/python3.12/site-packages (from google-api-core!=2.0.*,!=2.1.*,!=2.10.*,!=2.2.*,!=2.3.*,!=2.4.*,!=2.5.*,!=2.6.*,!=2.7.*,!=2.8.*,!=2.9.*,<3.0.0dev,>=1.34.1->google-api-core[grpc]!=2.0.*,!=2.1.*,!=2.10.*,!=2.2.*,!=2.3.*,!=2.4.*,!=2.5.*,!=2.6.*,!=2.7.*,!=2.8.*,!=2.9.*,<3.0.0dev,>=1.34.1->google-cloud-build==3.*->google-cloud-mlflow) (1.65.0)\n",
      "Requirement already satisfied: grpcio<2.0dev,>=1.33.2 in /Users/usamah/src/agent/agent/lib/python3.12/site-packages (from google-api-core[grpc]!=2.0.*,!=2.1.*,!=2.10.*,!=2.2.*,!=2.3.*,!=2.4.*,!=2.5.*,!=2.6.*,!=2.7.*,!=2.8.*,!=2.9.*,<3.0.0dev,>=1.34.1->google-cloud-build==3.*->google-cloud-mlflow) (1.66.1)\n",
      "Requirement already satisfied: grpcio-status<2.0.dev0,>=1.33.2 in /Users/usamah/src/agent/agent/lib/python3.12/site-packages (from google-api-core[grpc]!=2.0.*,!=2.1.*,!=2.10.*,!=2.2.*,!=2.3.*,!=2.4.*,!=2.5.*,!=2.6.*,!=2.7.*,!=2.8.*,!=2.9.*,<3.0.0dev,>=1.34.1->google-cloud-build==3.*->google-cloud-mlflow) (1.62.3)\n",
      "Requirement already satisfied: cachetools<6.0,>=2.0.0 in /Users/usamah/src/agent/agent/lib/python3.12/site-packages (from google-auth!=2.24.0,!=2.25.0,<3.0.0dev,>=2.14.1->google-cloud-build==3.*->google-cloud-mlflow) (5.5.0)\n",
      "Requirement already satisfied: pyasn1-modules>=0.2.1 in /Users/usamah/src/agent/agent/lib/python3.12/site-packages (from google-auth!=2.24.0,!=2.25.0,<3.0.0dev,>=2.14.1->google-cloud-build==3.*->google-cloud-mlflow) (0.3.0)\n",
      "Requirement already satisfied: rsa<5,>=3.1.4 in /Users/usamah/src/agent/agent/lib/python3.12/site-packages (from google-auth!=2.24.0,!=2.25.0,<3.0.0dev,>=2.14.1->google-cloud-build==3.*->google-cloud-mlflow) (4.9)\n",
      "Requirement already satisfied: python-dateutil<3.0dev,>=2.7.2 in /Users/usamah/src/agent/agent/lib/python3.12/site-packages (from google-cloud-bigquery!=3.20.0,<4.0.0dev,>=1.15.0->google-cloud-aiplatform~=1.7->google-cloud-mlflow) (2.9.0.post0)\n",
      "Requirement already satisfied: google-crc32c<2.0dev,>=1.0 in /Users/usamah/src/agent/agent/lib/python3.12/site-packages (from google-resumable-media<3.0dev,>=1.3.0->google-cloud-storage==1.*->google-cloud-mlflow) (1.6.0)\n",
      "Requirement already satisfied: setuptools>=3.0 in /Users/usamah/src/agent/agent/lib/python3.12/site-packages (from gunicorn<21->mlflow~=1.22->google-cloud-mlflow) (66.1.1)\n",
      "Requirement already satisfied: zipp>=0.5 in /Users/usamah/src/agent/agent/lib/python3.12/site-packages (from importlib-metadata!=4.7.0,<6,>=3.7.0->mlflow~=1.22->google-cloud-mlflow) (3.20.1)\n",
      "Requirement already satisfied: pyparsing!=3.0.5,>=2.0.2 in /Users/usamah/src/agent/agent/lib/python3.12/site-packages (from packaging>=14.3->google-cloud-aiplatform~=1.7->google-cloud-mlflow) (3.1.4)\n",
      "Requirement already satisfied: prometheus-client in /Users/usamah/src/agent/agent/lib/python3.12/site-packages (from prometheus-flask-exporter<1->mlflow~=1.22->google-cloud-mlflow) (0.20.0)\n",
      "Requirement already satisfied: annotated-types>=0.6.0 in /Users/usamah/src/agent/agent/lib/python3.12/site-packages (from pydantic<3->google-cloud-aiplatform~=1.7->google-cloud-mlflow) (0.7.0)\n",
      "Requirement already satisfied: pydantic-core==2.23.3 in /Users/usamah/src/agent/agent/lib/python3.12/site-packages (from pydantic<3->google-cloud-aiplatform~=1.7->google-cloud-mlflow) (2.23.3)\n",
      "Requirement already satisfied: charset-normalizer<4,>=2 in /Users/usamah/src/agent/agent/lib/python3.12/site-packages (from requests<3.0.0dev,>=2.18.0->google-cloud-storage==1.*->google-cloud-mlflow) (3.3.2)\n",
      "Requirement already satisfied: idna<4,>=2.5 in /Users/usamah/src/agent/agent/lib/python3.12/site-packages (from requests<3.0.0dev,>=2.18.0->google-cloud-storage==1.*->google-cloud-mlflow) (3.8)\n",
      "Requirement already satisfied: certifi>=2017.4.17 in /Users/usamah/src/agent/agent/lib/python3.12/site-packages (from requests<3.0.0dev,>=2.18.0->google-cloud-storage==1.*->google-cloud-mlflow) (2024.8.30)\n",
      "Requirement already satisfied: smmap<6,>=3.0.1 in /Users/usamah/src/agent/agent/lib/python3.12/site-packages (from gitdb<5,>=4.0.1->gitpython<4,>=2.1.0->mlflow~=1.22->google-cloud-mlflow) (5.0.1)\n",
      "Requirement already satisfied: MarkupSafe>=2.0 in /Users/usamah/src/agent/agent/lib/python3.12/site-packages (from Jinja2>=3.0->Flask<3->mlflow~=1.22->google-cloud-mlflow) (2.1.5)\n",
      "Requirement already satisfied: pyasn1<0.6.0,>=0.4.6 in /Users/usamah/src/agent/agent/lib/python3.12/site-packages (from pyasn1-modules>=0.2.1->google-auth!=2.24.0,!=2.25.0,<3.0.0dev,>=2.14.1->google-cloud-build==3.*->google-cloud-mlflow) (0.5.1)\n",
      "Downloading google_cloud_mlflow-0.0.6-py3-none-any.whl (25 kB)\n",
      "Downloading google_cloud_storage-1.44.0-py2.py3-none-any.whl (106 kB)\n",
      "Downloading mlflow-1.30.1-py3-none-any.whl (17.0 MB)\n",
      "\u001b[2K   \u001b[90m━━━━━━━━━━━━━━━━━━━━━━━━━━━━━━━━━━━━━━━━\u001b[0m \u001b[32m17.0/17.0 MB\u001b[0m \u001b[31m16.0 MB/s\u001b[0m eta \u001b[36m0:00:00\u001b[0m00:01\u001b[0m00:01\u001b[0m\n",
      "\u001b[?25hDownloading cloudpickle-2.2.1-py3-none-any.whl (25 kB)\n",
      "Downloading databricks_cli-0.18.0-py2.py3-none-any.whl (150 kB)\n",
      "Downloading docker-6.1.3-py3-none-any.whl (148 kB)\n",
      "Downloading entrypoints-0.4-py3-none-any.whl (5.3 kB)\n",
      "Downloading gunicorn-20.1.0-py3-none-any.whl (79 kB)\n",
      "Downloading importlib_metadata-5.2.0-py3-none-any.whl (21 kB)\n",
      "Downloading packaging-21.3-py3-none-any.whl (40 kB)\n",
      "Downloading prometheus_flask_exporter-0.23.1-py3-none-any.whl (18 kB)\n",
      "Downloading pytz-2022.7.1-py2.py3-none-any.whl (499 kB)\n",
      "Downloading querystring_parser-1.2.4-py2.py3-none-any.whl (7.9 kB)\n",
      "Using cached websocket_client-1.8.0-py3-none-any.whl (58 kB)\n",
      "Building wheels for collected packages: pandas\n",
      "  Building wheel for pandas (pyproject.toml) ... \u001b[?25ldone\n",
      "\u001b[?25h  Created wheel for pandas: filename=pandas-1.5.3-cp312-cp312-macosx_14_0_arm64.whl size=10410289 sha256=1f0fc82b25021dc54aac591ab30185050ebdbd6e1d7d50e3425b4726731616cc\n",
      "  Stored in directory: /Users/usamah/Library/Caches/pip/wheels/fb/83/18/8e7307aa1185c5498c5490e4d9c8a1732d9f1056e86c3491c6\n",
      "Successfully built pandas\n",
      "Installing collected packages: pytz, websocket-client, querystring-parser, packaging, importlib-metadata, gunicorn, entrypoints, cloudpickle, pandas, docker, databricks-cli, prometheus-flask-exporter, mlflow, google-cloud-storage, google-cloud-mlflow\n",
      "  Attempting uninstall: pytz\n",
      "    Found existing installation: pytz 2024.1\n",
      "    Uninstalling pytz-2024.1:\n",
      "      Successfully uninstalled pytz-2024.1\n",
      "  Attempting uninstall: packaging\n",
      "    Found existing installation: packaging 24.1\n",
      "    Uninstalling packaging-24.1:\n",
      "      Successfully uninstalled packaging-24.1\n",
      "  Attempting uninstall: importlib-metadata\n",
      "    Found existing installation: importlib-metadata 6.11.0\n",
      "    Uninstalling importlib-metadata-6.11.0:\n",
      "      Successfully uninstalled importlib-metadata-6.11.0\n",
      "  Attempting uninstall: gunicorn\n",
      "    Found existing installation: gunicorn 23.0.0\n",
      "    Uninstalling gunicorn-23.0.0:\n",
      "      Successfully uninstalled gunicorn-23.0.0\n",
      "  Attempting uninstall: cloudpickle\n",
      "    Found existing installation: cloudpickle 3.0.0\n",
      "    Uninstalling cloudpickle-3.0.0:\n",
      "      Successfully uninstalled cloudpickle-3.0.0\n",
      "  Attempting uninstall: pandas\n",
      "    Found existing installation: pandas 2.2.2\n",
      "    Uninstalling pandas-2.2.2:\n",
      "      Successfully uninstalled pandas-2.2.2\n",
      "  Attempting uninstall: docker\n",
      "    Found existing installation: docker 7.1.0\n",
      "    Uninstalling docker-7.1.0:\n",
      "      Successfully uninstalled docker-7.1.0\n",
      "  Attempting uninstall: mlflow\n",
      "    Found existing installation: mlflow 2.16.1\n",
      "    Uninstalling mlflow-2.16.1:\n",
      "      Successfully uninstalled mlflow-2.16.1\n",
      "  Attempting uninstall: google-cloud-storage\n",
      "    Found existing installation: google-cloud-storage 2.18.2\n",
      "    Uninstalling google-cloud-storage-2.18.2:\n",
      "      Successfully uninstalled google-cloud-storage-2.18.2\n",
      "\u001b[31mERROR: pip's dependency resolver does not currently take into account all the packages that are installed. This behaviour is the source of the following dependency conflicts.\n",
      "apache-airflow 2.10.1 requires packaging>=23.0, but you have packaging 21.3 which is incompatible.\n",
      "apache-airflow-providers-google 10.1.0 requires google-cloud-storage>=2.7.0, but you have google-cloud-storage 1.44.0 which is incompatible.\n",
      "langchain-core 0.3.0 requires packaging<25,>=23.2, but you have packaging 21.3 which is incompatible.\n",
      "opentelemetry-api 1.27.0 requires importlib-metadata<=8.4.0,>=6.0, but you have importlib-metadata 5.2.0 which is incompatible.\u001b[0m\u001b[31m\n",
      "\u001b[0mSuccessfully installed cloudpickle-2.2.1 databricks-cli-0.18.0 docker-6.1.3 entrypoints-0.4 google-cloud-mlflow-0.0.6 google-cloud-storage-1.44.0 gunicorn-20.1.0 importlib-metadata-5.2.0 mlflow-1.30.1 packaging-21.3 pandas-1.5.3 prometheus-flask-exporter-0.23.1 pytz-2022.7.1 querystring-parser-1.2.4 websocket-client-1.8.0\n",
      "Note: you may need to restart the kernel to use updated packages.\n"
     ]
    }
   ],
   "source": [
    "%pip install google-cloud-mlflow"
   ]
  },
  {
   "cell_type": "code",
   "execution_count": 6,
   "metadata": {},
   "outputs": [
    {
     "name": "stdout",
     "output_type": "stream",
     "text": [
      "1.5.2\n"
     ]
    }
   ],
   "source": [
    "import mlflow\n",
    "from mlflow.deployments import get_deploy_client\n",
    "from sklearn.model_selection import train_test_split\n",
    "from sklearn.datasets import load_diabetes \n",
    "from sklearn.ensemble import RandomForestRegressor\n",
    "import pandas as pd\n",
    "import numpy as np\n",
    "\n",
    "import sklearn\n",
    "print(sklearn.__version__)\n",
    "from sklearn.metrics import make_scorer"
   ]
  },
  {
   "cell_type": "code",
   "execution_count": 9,
   "metadata": {},
   "outputs": [
    {
     "name": "stderr",
     "output_type": "stream",
     "text": [
      "2024/09/16 00:47:26 WARNING mlflow.utils.autologging_utils: You are using an unsupported version of sklearn. If you encounter errors during autologging, try upgrading / downgrading sklearn to a supported version, or try upgrading MLflow.\n"
     ]
    },
    {
     "ename": "AttributeError",
     "evalue": "module 'sklearn.metrics' has no attribute 'SCORERS'",
     "output_type": "error",
     "traceback": [
      "\u001b[0;31m---------------------------------------------------------------------------\u001b[0m",
      "\u001b[0;31mAttributeError\u001b[0m                            Traceback (most recent call last)",
      "Cell \u001b[0;32mIn[9], line 8\u001b[0m\n\u001b[1;32m      5\u001b[0m X_train, X_test, y_train, y_test \u001b[38;5;241m=\u001b[39m train_test_split(X, y)\n\u001b[1;32m      7\u001b[0m \u001b[38;5;66;03m# mlflow.sklearn.autolog() requires mlflow 1.11.0 or above.\u001b[39;00m\n\u001b[0;32m----> 8\u001b[0m \u001b[43mmlflow\u001b[49m\u001b[38;5;241;43m.\u001b[39;49m\u001b[43msklearn\u001b[49m\u001b[38;5;241;43m.\u001b[39;49m\u001b[43mautolog\u001b[49m\u001b[43m(\u001b[49m\u001b[43m)\u001b[49m\n\u001b[1;32m     10\u001b[0m \u001b[38;5;66;03m# With autolog() enabled, all model parameters, a model score, and the fitted model are automatically logged.  \u001b[39;00m\n\u001b[1;32m     11\u001b[0m \u001b[38;5;28;01mwith\u001b[39;00m mlflow\u001b[38;5;241m.\u001b[39mstart_run() \u001b[38;5;28;01mas\u001b[39;00m run:  \n\u001b[1;32m     12\u001b[0m   \u001b[38;5;66;03m# Set the model parameters. \u001b[39;00m\n",
      "File \u001b[0;32m~/src/agent/agent/lib/python3.12/site-packages/mlflow/utils/autologging_utils/__init__.py:416\u001b[0m, in \u001b[0;36mautologging_integration.<locals>.wrapper.<locals>.autolog\u001b[0;34m(*args, **kwargs)\u001b[0m\n\u001b[1;32m    397\u001b[0m \u001b[38;5;28;01mwith\u001b[39;00m set_mlflow_events_and_warnings_behavior_globally(\n\u001b[1;32m    398\u001b[0m     \u001b[38;5;66;03m# MLflow warnings emitted during autologging setup / enablement are likely\u001b[39;00m\n\u001b[1;32m    399\u001b[0m     \u001b[38;5;66;03m# actionable and relevant to the user, so they should be emitted as normal\u001b[39;00m\n\u001b[0;32m   (...)\u001b[0m\n\u001b[1;32m    412\u001b[0m     disable_warnings\u001b[38;5;241m=\u001b[39mis_silent_mode,\n\u001b[1;32m    413\u001b[0m ):\n\u001b[1;32m    414\u001b[0m     _check_and_log_warning_for_unsupported_package_versions(name)\n\u001b[0;32m--> 416\u001b[0m     \u001b[38;5;28;01mreturn\u001b[39;00m \u001b[43m_autolog\u001b[49m\u001b[43m(\u001b[49m\u001b[38;5;241;43m*\u001b[39;49m\u001b[43margs\u001b[49m\u001b[43m,\u001b[49m\u001b[43m \u001b[49m\u001b[38;5;241;43m*\u001b[39;49m\u001b[38;5;241;43m*\u001b[39;49m\u001b[43mkwargs\u001b[49m\u001b[43m)\u001b[49m\n",
      "File \u001b[0;32m~/src/agent/agent/lib/python3.12/site-packages/mlflow/sklearn/__init__.py:1209\u001b[0m, in \u001b[0;36mautolog\u001b[0;34m(log_input_examples, log_model_signatures, log_models, disable, exclusive, disable_for_unsupported_versions, silent, max_tuning_runs, log_post_training_metrics, serialization_format, registered_model_name, pos_label)\u001b[0m\n\u001b[1;32m    931\u001b[0m \u001b[38;5;129m@autologging_integration\u001b[39m(FLAVOR_NAME)\n\u001b[1;32m    932\u001b[0m \u001b[38;5;28;01mdef\u001b[39;00m \u001b[38;5;21mautolog\u001b[39m(\n\u001b[1;32m    933\u001b[0m     log_input_examples\u001b[38;5;241m=\u001b[39m\u001b[38;5;28;01mFalse\u001b[39;00m,\n\u001b[0;32m   (...)\u001b[0m\n\u001b[1;32m    944\u001b[0m     pos_label\u001b[38;5;241m=\u001b[39m\u001b[38;5;28;01mNone\u001b[39;00m,\n\u001b[1;32m    945\u001b[0m ):  \u001b[38;5;66;03m# pylint: disable=unused-argument\u001b[39;00m\n\u001b[1;32m    946\u001b[0m \u001b[38;5;250m    \u001b[39m\u001b[38;5;124;03m\"\"\"\u001b[39;00m\n\u001b[1;32m    947\u001b[0m \u001b[38;5;124;03m    Enables (or disables) and configures autologging for scikit-learn estimators.\u001b[39;00m\n\u001b[1;32m    948\u001b[0m \n\u001b[0;32m   (...)\u001b[0m\n\u001b[1;32m   1207\u001b[0m \u001b[38;5;124;03m                      be logged. If used for regression model, the parameter will be ignored.\u001b[39;00m\n\u001b[1;32m   1208\u001b[0m \u001b[38;5;124;03m    \"\"\"\u001b[39;00m\n\u001b[0;32m-> 1209\u001b[0m     \u001b[43m_autolog\u001b[49m\u001b[43m(\u001b[49m\n\u001b[1;32m   1210\u001b[0m \u001b[43m        \u001b[49m\u001b[43mflavor_name\u001b[49m\u001b[38;5;241;43m=\u001b[39;49m\u001b[43mFLAVOR_NAME\u001b[49m\u001b[43m,\u001b[49m\n\u001b[1;32m   1211\u001b[0m \u001b[43m        \u001b[49m\u001b[43mlog_input_examples\u001b[49m\u001b[38;5;241;43m=\u001b[39;49m\u001b[43mlog_input_examples\u001b[49m\u001b[43m,\u001b[49m\n\u001b[1;32m   1212\u001b[0m \u001b[43m        \u001b[49m\u001b[43mlog_model_signatures\u001b[49m\u001b[38;5;241;43m=\u001b[39;49m\u001b[43mlog_model_signatures\u001b[49m\u001b[43m,\u001b[49m\n\u001b[1;32m   1213\u001b[0m \u001b[43m        \u001b[49m\u001b[43mlog_models\u001b[49m\u001b[38;5;241;43m=\u001b[39;49m\u001b[43mlog_models\u001b[49m\u001b[43m,\u001b[49m\n\u001b[1;32m   1214\u001b[0m \u001b[43m        \u001b[49m\u001b[43mdisable\u001b[49m\u001b[38;5;241;43m=\u001b[39;49m\u001b[43mdisable\u001b[49m\u001b[43m,\u001b[49m\n\u001b[1;32m   1215\u001b[0m \u001b[43m        \u001b[49m\u001b[43mexclusive\u001b[49m\u001b[38;5;241;43m=\u001b[39;49m\u001b[43mexclusive\u001b[49m\u001b[43m,\u001b[49m\n\u001b[1;32m   1216\u001b[0m \u001b[43m        \u001b[49m\u001b[43mdisable_for_unsupported_versions\u001b[49m\u001b[38;5;241;43m=\u001b[39;49m\u001b[43mdisable_for_unsupported_versions\u001b[49m\u001b[43m,\u001b[49m\n\u001b[1;32m   1217\u001b[0m \u001b[43m        \u001b[49m\u001b[43msilent\u001b[49m\u001b[38;5;241;43m=\u001b[39;49m\u001b[43msilent\u001b[49m\u001b[43m,\u001b[49m\n\u001b[1;32m   1218\u001b[0m \u001b[43m        \u001b[49m\u001b[43mmax_tuning_runs\u001b[49m\u001b[38;5;241;43m=\u001b[39;49m\u001b[43mmax_tuning_runs\u001b[49m\u001b[43m,\u001b[49m\n\u001b[1;32m   1219\u001b[0m \u001b[43m        \u001b[49m\u001b[43mlog_post_training_metrics\u001b[49m\u001b[38;5;241;43m=\u001b[39;49m\u001b[43mlog_post_training_metrics\u001b[49m\u001b[43m,\u001b[49m\n\u001b[1;32m   1220\u001b[0m \u001b[43m        \u001b[49m\u001b[43mserialization_format\u001b[49m\u001b[38;5;241;43m=\u001b[39;49m\u001b[43mserialization_format\u001b[49m\u001b[43m,\u001b[49m\n\u001b[1;32m   1221\u001b[0m \u001b[43m        \u001b[49m\u001b[43mpos_label\u001b[49m\u001b[38;5;241;43m=\u001b[39;49m\u001b[43mpos_label\u001b[49m\u001b[43m,\u001b[49m\n\u001b[1;32m   1222\u001b[0m \u001b[43m    \u001b[49m\u001b[43m)\u001b[49m\n",
      "File \u001b[0;32m~/src/agent/agent/lib/python3.12/site-packages/mlflow/sklearn/__init__.py:1755\u001b[0m, in \u001b[0;36m_autolog\u001b[0;34m(flavor_name, log_input_examples, log_model_signatures, log_models, disable, exclusive, disable_for_unsupported_versions, silent, max_tuning_runs, log_post_training_metrics, serialization_format, pos_label)\u001b[0m\n\u001b[1;32m   1750\u001b[0m     \u001b[38;5;28;01mfor\u001b[39;00m metric_name \u001b[38;5;129;01min\u001b[39;00m _get_metric_name_list():\n\u001b[1;32m   1751\u001b[0m         safe_patch(\n\u001b[1;32m   1752\u001b[0m             flavor_name, sklearn\u001b[38;5;241m.\u001b[39mmetrics, metric_name, patched_metric_api, manage_run\u001b[38;5;241m=\u001b[39m\u001b[38;5;28;01mFalse\u001b[39;00m\n\u001b[1;32m   1753\u001b[0m         )\n\u001b[0;32m-> 1755\u001b[0m     \u001b[38;5;28;01mfor\u001b[39;00m scorer \u001b[38;5;129;01min\u001b[39;00m \u001b[43msklearn\u001b[49m\u001b[38;5;241;43m.\u001b[39;49m\u001b[43mmetrics\u001b[49m\u001b[38;5;241;43m.\u001b[39;49m\u001b[43mSCORERS\u001b[49m\u001b[38;5;241m.\u001b[39mvalues():\n\u001b[1;32m   1756\u001b[0m         safe_patch(flavor_name, scorer, \u001b[38;5;124m\"\u001b[39m\u001b[38;5;124m_score_func\u001b[39m\u001b[38;5;124m\"\u001b[39m, patched_metric_api, manage_run\u001b[38;5;241m=\u001b[39m\u001b[38;5;28;01mFalse\u001b[39;00m)\n\u001b[1;32m   1758\u001b[0m \u001b[38;5;28;01mdef\u001b[39;00m \u001b[38;5;21mpatched_fn_with_autolog_disabled\u001b[39m(original, \u001b[38;5;241m*\u001b[39margs, \u001b[38;5;241m*\u001b[39m\u001b[38;5;241m*\u001b[39mkwargs):\n",
      "\u001b[0;31mAttributeError\u001b[0m: module 'sklearn.metrics' has no attribute 'SCORERS'"
     ]
    }
   ],
   "source": [
    "# load dataset\n",
    "db = load_diabetes()\n",
    "X = db.data\n",
    "y = db.target\n",
    "X_train, X_test, y_train, y_test = train_test_split(X, y)\n",
    " \n",
    "# mlflow.sklearn.autolog() requires mlflow 1.11.0 or above.\n",
    "# mlflow.sklearn.autolog()\n",
    " \n",
    "# With autolog() enabled, all model parameters, a model score, and the fitted model are automatically logged.  \n",
    "with mlflow.start_run() as run:  \n",
    "  # Set the model parameters. \n",
    "  n_estimators = 100\n",
    "  max_depth = 6\n",
    "  max_features = 3\n",
    "  # Create and train model.\n",
    "  rf = RandomForestRegressor(n_estimators = n_estimators, max_depth = max_depth, max_features = max_features)\n",
    "  rf.fit(X_train, y_train)\n",
    "  # Use the model to make predictions on the test dataset.\n",
    "  predictions = rf.predict(X_test)\n",
    "  \n",
    "mlflow.end_run()"
   ]
  },
  {
   "cell_type": "code",
   "execution_count": 3,
   "metadata": {},
   "outputs": [
    {
     "name": "stdout",
     "output_type": "stream",
     "text": [
      "1.5.2\n"
     ]
    }
   ],
   "source": []
  },
  {
   "cell_type": "code",
   "execution_count": 4,
   "metadata": {},
   "outputs": [],
   "source": []
  },
  {
   "cell_type": "code",
   "execution_count": null,
   "metadata": {},
   "outputs": [],
   "source": [
    "model_name = \"vertex-sklearn-blog-demo\"\n",
    "mlflow.sklearn.log_model(rf, model_name, registered_model_name=model_name)"
   ]
  },
  {
   "cell_type": "code",
   "execution_count": null,
   "metadata": {},
   "outputs": [],
   "source": [
    "client = mlflow.tracking.MLflowClient()\n",
    "model_version_infos = client.search_model_versions(f\"name = '{model_name}'\")\n",
    "model_version = max([int(model_version_info.version) for model_version_info in model_version_infos])\n",
    "model_uri=f\"models:/{model_name}/{model_version}\"\n",
    "\n",
    "# model_uri should be models:/vertex-sklearn-blog-demo/1"
   ]
  },
  {
   "cell_type": "code",
   "execution_count": null,
   "metadata": {},
   "outputs": [],
   "source": [
    "# Really simple Vertex client instantiation\n",
    "vtx_client = mlflow.deployments.get_deploy_client(\"google_cloud\")\n",
    "deploy_name = f\"{model_name}-{model_version}\"\n",
    "\n",
    "# Deploy to Vertex AI using three lines of code! Note: If using python > 3.7, this may take up to 20 minutes.\n",
    "deployment = vtx_client.create_deployment(\n",
    "    name=deploy_name,\n",
    "    model_uri=model_uri)"
   ]
  },
  {
   "cell_type": "code",
   "execution_count": null,
   "metadata": {},
   "outputs": [],
   "source": [
    "# Use the .predict() method from the same plugin\n",
    "predictions = vtx_client.predict(deploy_name, X_test)"
   ]
  },
  {
   "cell_type": "code",
   "execution_count": null,
   "metadata": {},
   "outputs": [],
   "source": []
  }
 ],
 "metadata": {
  "kernelspec": {
   "display_name": "agent",
   "language": "python",
   "name": "python3"
  },
  "language_info": {
   "codemirror_mode": {
    "name": "ipython",
    "version": 3
   },
   "file_extension": ".py",
   "mimetype": "text/x-python",
   "name": "python",
   "nbconvert_exporter": "python",
   "pygments_lexer": "ipython3",
   "version": "3.12.6"
  }
 },
 "nbformat": 4,
 "nbformat_minor": 2
}
