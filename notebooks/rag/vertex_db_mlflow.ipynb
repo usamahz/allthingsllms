{
 "cells": [
  {
   "cell_type": "code",
   "execution_count": 20,
   "metadata": {},
   "outputs": [
    {
     "name": "stdout",
     "output_type": "stream",
     "text": [
      "Requirement already satisfied: google-cloud-mlflow in /Users/usamah/src/agent/agent/lib/python3.12/site-packages (0.0.6)\n",
      "Requirement already satisfied: google-cloud-aiplatform~=1.7 in /Users/usamah/src/agent/agent/lib/python3.12/site-packages (from google-cloud-mlflow) (1.66.0)\n",
      "Collecting mlflow~=1.22 (from google-cloud-mlflow)\n",
      "  Using cached mlflow-1.30.1-py3-none-any.whl.metadata (11 kB)\n",
      "Requirement already satisfied: google-cloud-build==3.* in /Users/usamah/src/agent/agent/lib/python3.12/site-packages (from google-cloud-mlflow) (3.24.2)\n",
      "Requirement already satisfied: google-cloud-storage==1.* in /Users/usamah/src/agent/agent/lib/python3.12/site-packages (from google-cloud-mlflow) (1.44.0)\n",
      "Requirement already satisfied: google-api-core!=2.0.*,!=2.1.*,!=2.10.*,!=2.2.*,!=2.3.*,!=2.4.*,!=2.5.*,!=2.6.*,!=2.7.*,!=2.8.*,!=2.9.*,<3.0.0dev,>=1.34.1 in /Users/usamah/src/agent/agent/lib/python3.12/site-packages (from google-api-core[grpc]!=2.0.*,!=2.1.*,!=2.10.*,!=2.2.*,!=2.3.*,!=2.4.*,!=2.5.*,!=2.6.*,!=2.7.*,!=2.8.*,!=2.9.*,<3.0.0dev,>=1.34.1->google-cloud-build==3.*->google-cloud-mlflow) (2.19.2)\n",
      "Requirement already satisfied: google-auth!=2.24.0,!=2.25.0,<3.0.0dev,>=2.14.1 in /Users/usamah/src/agent/agent/lib/python3.12/site-packages (from google-cloud-build==3.*->google-cloud-mlflow) (2.34.0)\n",
      "Requirement already satisfied: grpc-google-iam-v1<1.0.0dev,>=0.12.4 in /Users/usamah/src/agent/agent/lib/python3.12/site-packages (from google-cloud-build==3.*->google-cloud-mlflow) (0.13.1)\n",
      "Requirement already satisfied: proto-plus<2.0.0dev,>=1.22.3 in /Users/usamah/src/agent/agent/lib/python3.12/site-packages (from google-cloud-build==3.*->google-cloud-mlflow) (1.24.0)\n",
      "Requirement already satisfied: protobuf!=4.21.0,!=4.21.1,!=4.21.2,!=4.21.3,!=4.21.4,!=4.21.5,<6.0.0dev,>=3.20.2 in /Users/usamah/src/agent/agent/lib/python3.12/site-packages (from google-cloud-build==3.*->google-cloud-mlflow) (4.25.4)\n",
      "Requirement already satisfied: requests<3.0.0dev,>=2.18.0 in /Users/usamah/src/agent/agent/lib/python3.12/site-packages (from google-cloud-storage==1.*->google-cloud-mlflow) (2.32.3)\n",
      "Requirement already satisfied: six in /Users/usamah/src/agent/agent/lib/python3.12/site-packages (from google-cloud-storage==1.*->google-cloud-mlflow) (1.16.0)\n",
      "Requirement already satisfied: google-cloud-core<3.0dev,>=1.6.0 in /Users/usamah/src/agent/agent/lib/python3.12/site-packages (from google-cloud-storage==1.*->google-cloud-mlflow) (2.4.1)\n",
      "Requirement already satisfied: google-resumable-media<3.0dev,>=1.3.0 in /Users/usamah/src/agent/agent/lib/python3.12/site-packages (from google-cloud-storage==1.*->google-cloud-mlflow) (2.7.2)\n",
      "Requirement already satisfied: packaging>=14.3 in /Users/usamah/src/agent/agent/lib/python3.12/site-packages (from google-cloud-aiplatform~=1.7->google-cloud-mlflow) (21.3)\n",
      "Requirement already satisfied: google-cloud-bigquery!=3.20.0,<4.0.0dev,>=1.15.0 in /Users/usamah/src/agent/agent/lib/python3.12/site-packages (from google-cloud-aiplatform~=1.7->google-cloud-mlflow) (3.25.0)\n",
      "Requirement already satisfied: google-cloud-resource-manager<3.0.0dev,>=1.3.3 in /Users/usamah/src/agent/agent/lib/python3.12/site-packages (from google-cloud-aiplatform~=1.7->google-cloud-mlflow) (1.12.5)\n",
      "Requirement already satisfied: shapely<3.0.0dev in /Users/usamah/src/agent/agent/lib/python3.12/site-packages (from google-cloud-aiplatform~=1.7->google-cloud-mlflow) (2.0.6)\n",
      "Requirement already satisfied: pydantic<3 in /Users/usamah/src/agent/agent/lib/python3.12/site-packages (from google-cloud-aiplatform~=1.7->google-cloud-mlflow) (2.9.1)\n",
      "Requirement already satisfied: docstring-parser<1 in /Users/usamah/src/agent/agent/lib/python3.12/site-packages (from google-cloud-aiplatform~=1.7->google-cloud-mlflow) (0.16)\n",
      "Requirement already satisfied: click<9,>=7.0 in /Users/usamah/src/agent/agent/lib/python3.12/site-packages (from mlflow~=1.22->google-cloud-mlflow) (8.1.7)\n",
      "Requirement already satisfied: cloudpickle<3 in /Users/usamah/src/agent/agent/lib/python3.12/site-packages (from mlflow~=1.22->google-cloud-mlflow) (2.2.1)\n",
      "Requirement already satisfied: databricks-cli<1,>=0.8.7 in /Users/usamah/src/agent/agent/lib/python3.12/site-packages (from mlflow~=1.22->google-cloud-mlflow) (0.18.0)\n",
      "Requirement already satisfied: entrypoints<1 in /Users/usamah/src/agent/agent/lib/python3.12/site-packages (from mlflow~=1.22->google-cloud-mlflow) (0.4)\n",
      "Requirement already satisfied: gitpython<4,>=2.1.0 in /Users/usamah/src/agent/agent/lib/python3.12/site-packages (from mlflow~=1.22->google-cloud-mlflow) (3.1.43)\n",
      "Requirement already satisfied: pyyaml<7,>=5.1 in /Users/usamah/src/agent/agent/lib/python3.12/site-packages (from mlflow~=1.22->google-cloud-mlflow) (6.0.2)\n",
      "Requirement already satisfied: pytz<2023 in /Users/usamah/src/agent/agent/lib/python3.12/site-packages (from mlflow~=1.22->google-cloud-mlflow) (2022.7.1)\n",
      "Collecting importlib-metadata!=4.7.0,<6,>=3.7.0 (from mlflow~=1.22->google-cloud-mlflow)\n",
      "  Using cached importlib_metadata-5.2.0-py3-none-any.whl.metadata (5.0 kB)\n",
      "Requirement already satisfied: sqlparse<1,>=0.4.0 in /Users/usamah/src/agent/agent/lib/python3.12/site-packages (from mlflow~=1.22->google-cloud-mlflow) (0.5.1)\n",
      "Requirement already satisfied: alembic<2 in /Users/usamah/src/agent/agent/lib/python3.12/site-packages (from mlflow~=1.22->google-cloud-mlflow) (1.4.1)\n",
      "Requirement already satisfied: docker<7,>=4.0.0 in /Users/usamah/src/agent/agent/lib/python3.12/site-packages (from mlflow~=1.22->google-cloud-mlflow) (6.1.3)\n",
      "Requirement already satisfied: Flask<3 in /Users/usamah/src/agent/agent/lib/python3.12/site-packages (from mlflow~=1.22->google-cloud-mlflow) (2.2.5)\n",
      "Requirement already satisfied: numpy<2 in /Users/usamah/src/agent/agent/lib/python3.12/site-packages (from mlflow~=1.22->google-cloud-mlflow) (1.26.4)\n",
      "Requirement already satisfied: scipy<2 in /Users/usamah/src/agent/agent/lib/python3.12/site-packages (from mlflow~=1.22->google-cloud-mlflow) (1.14.1)\n",
      "Requirement already satisfied: pandas<2 in /Users/usamah/src/agent/agent/lib/python3.12/site-packages (from mlflow~=1.22->google-cloud-mlflow) (1.5.3)\n",
      "Requirement already satisfied: prometheus-flask-exporter<1 in /Users/usamah/src/agent/agent/lib/python3.12/site-packages (from mlflow~=1.22->google-cloud-mlflow) (0.23.1)\n",
      "Requirement already satisfied: querystring-parser<2 in /Users/usamah/src/agent/agent/lib/python3.12/site-packages (from mlflow~=1.22->google-cloud-mlflow) (1.2.4)\n",
      "Collecting sqlalchemy<2,>=1.4.0 (from mlflow~=1.22->google-cloud-mlflow)\n",
      "  Downloading SQLAlchemy-1.4.54-cp312-cp312-macosx_10_9_universal2.whl.metadata (10 kB)\n",
      "Requirement already satisfied: gunicorn<21 in /Users/usamah/src/agent/agent/lib/python3.12/site-packages (from mlflow~=1.22->google-cloud-mlflow) (20.1.0)\n",
      "Requirement already satisfied: Mako in /Users/usamah/src/agent/agent/lib/python3.12/site-packages (from alembic<2->mlflow~=1.22->google-cloud-mlflow) (1.3.5)\n",
      "Requirement already satisfied: python-editor>=0.3 in /Users/usamah/src/agent/agent/lib/python3.12/site-packages (from alembic<2->mlflow~=1.22->google-cloud-mlflow) (1.0.4)\n",
      "Requirement already satisfied: python-dateutil in /Users/usamah/src/agent/agent/lib/python3.12/site-packages (from alembic<2->mlflow~=1.22->google-cloud-mlflow) (2.9.0.post0)\n",
      "Requirement already satisfied: pyjwt>=1.7.0 in /Users/usamah/src/agent/agent/lib/python3.12/site-packages (from databricks-cli<1,>=0.8.7->mlflow~=1.22->google-cloud-mlflow) (2.9.0)\n",
      "Requirement already satisfied: oauthlib>=3.1.0 in /Users/usamah/src/agent/agent/lib/python3.12/site-packages (from databricks-cli<1,>=0.8.7->mlflow~=1.22->google-cloud-mlflow) (3.2.2)\n",
      "Requirement already satisfied: tabulate>=0.7.7 in /Users/usamah/src/agent/agent/lib/python3.12/site-packages (from databricks-cli<1,>=0.8.7->mlflow~=1.22->google-cloud-mlflow) (0.9.0)\n",
      "Requirement already satisfied: urllib3<3,>=1.26.7 in /Users/usamah/src/agent/agent/lib/python3.12/site-packages (from databricks-cli<1,>=0.8.7->mlflow~=1.22->google-cloud-mlflow) (1.26.20)\n",
      "Requirement already satisfied: websocket-client>=0.32.0 in /Users/usamah/src/agent/agent/lib/python3.12/site-packages (from docker<7,>=4.0.0->mlflow~=1.22->google-cloud-mlflow) (1.8.0)\n",
      "Requirement already satisfied: Werkzeug>=2.2.2 in /Users/usamah/src/agent/agent/lib/python3.12/site-packages (from Flask<3->mlflow~=1.22->google-cloud-mlflow) (2.2.3)\n",
      "Requirement already satisfied: Jinja2>=3.0 in /Users/usamah/src/agent/agent/lib/python3.12/site-packages (from Flask<3->mlflow~=1.22->google-cloud-mlflow) (3.1.4)\n",
      "Requirement already satisfied: itsdangerous>=2.0 in /Users/usamah/src/agent/agent/lib/python3.12/site-packages (from Flask<3->mlflow~=1.22->google-cloud-mlflow) (2.2.0)\n",
      "Requirement already satisfied: gitdb<5,>=4.0.1 in /Users/usamah/src/agent/agent/lib/python3.12/site-packages (from gitpython<4,>=2.1.0->mlflow~=1.22->google-cloud-mlflow) (4.0.11)\n",
      "Requirement already satisfied: googleapis-common-protos<2.0.dev0,>=1.56.2 in /Users/usamah/src/agent/agent/lib/python3.12/site-packages (from google-api-core!=2.0.*,!=2.1.*,!=2.10.*,!=2.2.*,!=2.3.*,!=2.4.*,!=2.5.*,!=2.6.*,!=2.7.*,!=2.8.*,!=2.9.*,<3.0.0dev,>=1.34.1->google-api-core[grpc]!=2.0.*,!=2.1.*,!=2.10.*,!=2.2.*,!=2.3.*,!=2.4.*,!=2.5.*,!=2.6.*,!=2.7.*,!=2.8.*,!=2.9.*,<3.0.0dev,>=1.34.1->google-cloud-build==3.*->google-cloud-mlflow) (1.65.0)\n",
      "Requirement already satisfied: grpcio<2.0dev,>=1.33.2 in /Users/usamah/src/agent/agent/lib/python3.12/site-packages (from google-api-core[grpc]!=2.0.*,!=2.1.*,!=2.10.*,!=2.2.*,!=2.3.*,!=2.4.*,!=2.5.*,!=2.6.*,!=2.7.*,!=2.8.*,!=2.9.*,<3.0.0dev,>=1.34.1->google-cloud-build==3.*->google-cloud-mlflow) (1.66.1)\n",
      "Requirement already satisfied: grpcio-status<2.0.dev0,>=1.33.2 in /Users/usamah/src/agent/agent/lib/python3.12/site-packages (from google-api-core[grpc]!=2.0.*,!=2.1.*,!=2.10.*,!=2.2.*,!=2.3.*,!=2.4.*,!=2.5.*,!=2.6.*,!=2.7.*,!=2.8.*,!=2.9.*,<3.0.0dev,>=1.34.1->google-cloud-build==3.*->google-cloud-mlflow) (1.62.3)\n",
      "Requirement already satisfied: cachetools<6.0,>=2.0.0 in /Users/usamah/src/agent/agent/lib/python3.12/site-packages (from google-auth!=2.24.0,!=2.25.0,<3.0.0dev,>=2.14.1->google-cloud-build==3.*->google-cloud-mlflow) (5.5.0)\n",
      "Requirement already satisfied: pyasn1-modules>=0.2.1 in /Users/usamah/src/agent/agent/lib/python3.12/site-packages (from google-auth!=2.24.0,!=2.25.0,<3.0.0dev,>=2.14.1->google-cloud-build==3.*->google-cloud-mlflow) (0.3.0)\n",
      "Requirement already satisfied: rsa<5,>=3.1.4 in /Users/usamah/src/agent/agent/lib/python3.12/site-packages (from google-auth!=2.24.0,!=2.25.0,<3.0.0dev,>=2.14.1->google-cloud-build==3.*->google-cloud-mlflow) (4.9)\n",
      "Requirement already satisfied: google-crc32c<2.0dev,>=1.0 in /Users/usamah/src/agent/agent/lib/python3.12/site-packages (from google-resumable-media<3.0dev,>=1.3.0->google-cloud-storage==1.*->google-cloud-mlflow) (1.6.0)\n",
      "Requirement already satisfied: setuptools>=3.0 in /Users/usamah/src/agent/agent/lib/python3.12/site-packages (from gunicorn<21->mlflow~=1.22->google-cloud-mlflow) (66.1.1)\n",
      "Requirement already satisfied: zipp>=0.5 in /Users/usamah/src/agent/agent/lib/python3.12/site-packages (from importlib-metadata!=4.7.0,<6,>=3.7.0->mlflow~=1.22->google-cloud-mlflow) (3.20.1)\n",
      "Requirement already satisfied: pyparsing!=3.0.5,>=2.0.2 in /Users/usamah/src/agent/agent/lib/python3.12/site-packages (from packaging>=14.3->google-cloud-aiplatform~=1.7->google-cloud-mlflow) (3.1.4)\n",
      "Requirement already satisfied: prometheus-client in /Users/usamah/src/agent/agent/lib/python3.12/site-packages (from prometheus-flask-exporter<1->mlflow~=1.22->google-cloud-mlflow) (0.20.0)\n",
      "Requirement already satisfied: annotated-types>=0.6.0 in /Users/usamah/src/agent/agent/lib/python3.12/site-packages (from pydantic<3->google-cloud-aiplatform~=1.7->google-cloud-mlflow) (0.7.0)\n",
      "Requirement already satisfied: pydantic-core==2.23.3 in /Users/usamah/src/agent/agent/lib/python3.12/site-packages (from pydantic<3->google-cloud-aiplatform~=1.7->google-cloud-mlflow) (2.23.3)\n",
      "Requirement already satisfied: typing-extensions>=4.6.1 in /Users/usamah/src/agent/agent/lib/python3.12/site-packages (from pydantic<3->google-cloud-aiplatform~=1.7->google-cloud-mlflow) (4.12.2)\n",
      "Requirement already satisfied: charset-normalizer<4,>=2 in /Users/usamah/src/agent/agent/lib/python3.12/site-packages (from requests<3.0.0dev,>=2.18.0->google-cloud-storage==1.*->google-cloud-mlflow) (3.3.2)\n",
      "Requirement already satisfied: idna<4,>=2.5 in /Users/usamah/src/agent/agent/lib/python3.12/site-packages (from requests<3.0.0dev,>=2.18.0->google-cloud-storage==1.*->google-cloud-mlflow) (3.8)\n",
      "Requirement already satisfied: certifi>=2017.4.17 in /Users/usamah/src/agent/agent/lib/python3.12/site-packages (from requests<3.0.0dev,>=2.18.0->google-cloud-storage==1.*->google-cloud-mlflow) (2024.8.30)\n",
      "Requirement already satisfied: smmap<6,>=3.0.1 in /Users/usamah/src/agent/agent/lib/python3.12/site-packages (from gitdb<5,>=4.0.1->gitpython<4,>=2.1.0->mlflow~=1.22->google-cloud-mlflow) (5.0.1)\n",
      "Requirement already satisfied: MarkupSafe>=2.0 in /Users/usamah/src/agent/agent/lib/python3.12/site-packages (from Jinja2>=3.0->Flask<3->mlflow~=1.22->google-cloud-mlflow) (2.1.5)\n",
      "Requirement already satisfied: pyasn1<0.6.0,>=0.4.6 in /Users/usamah/src/agent/agent/lib/python3.12/site-packages (from pyasn1-modules>=0.2.1->google-auth!=2.24.0,!=2.25.0,<3.0.0dev,>=2.14.1->google-cloud-build==3.*->google-cloud-mlflow) (0.5.1)\n",
      "Using cached mlflow-1.30.1-py3-none-any.whl (17.0 MB)\n",
      "Using cached importlib_metadata-5.2.0-py3-none-any.whl (21 kB)\n",
      "Downloading SQLAlchemy-1.4.54-cp312-cp312-macosx_10_9_universal2.whl (1.6 MB)\n",
      "\u001b[2K   \u001b[90m━━━━━━━━━━━━━━━━━━━━━━━━━━━━━━━━━━━━━━━━\u001b[0m \u001b[32m1.6/1.6 MB\u001b[0m \u001b[31m13.8 MB/s\u001b[0m eta \u001b[36m0:00:00\u001b[0m\n",
      "\u001b[?25hInstalling collected packages: sqlalchemy, importlib-metadata, mlflow\n",
      "  Attempting uninstall: sqlalchemy\n",
      "    Found existing installation: SQLAlchemy 1.3.13\n",
      "    Uninstalling SQLAlchemy-1.3.13:\n",
      "      Successfully uninstalled SQLAlchemy-1.3.13\n",
      "  Attempting uninstall: importlib-metadata\n",
      "    Found existing installation: importlib_metadata 8.4.0\n",
      "    Uninstalling importlib_metadata-8.4.0:\n",
      "      Successfully uninstalled importlib_metadata-8.4.0\n",
      "  Attempting uninstall: mlflow\n",
      "    Found existing installation: mlflow 1.11.0\n",
      "    Uninstalling mlflow-1.11.0:\n",
      "      Successfully uninstalled mlflow-1.11.0\n",
      "\u001b[31mERROR: pip's dependency resolver does not currently take into account all the packages that are installed. This behaviour is the source of the following dependency conflicts.\n",
      "apache-airflow 2.10.1 requires alembic<2.0,>=1.13.1, but you have alembic 1.4.1 which is incompatible.\n",
      "apache-airflow 2.10.1 requires packaging>=23.0, but you have packaging 21.3 which is incompatible.\n",
      "apache-airflow-providers-google 10.1.0 requires google-cloud-storage>=2.7.0, but you have google-cloud-storage 1.44.0 which is incompatible.\n",
      "opentelemetry-api 1.27.0 requires importlib-metadata<=8.4.0,>=6.0, but you have importlib-metadata 5.2.0 which is incompatible.\u001b[0m\u001b[31m\n",
      "\u001b[0mSuccessfully installed importlib-metadata-5.2.0 mlflow-1.30.1 sqlalchemy-1.4.54\n",
      "Note: you may need to restart the kernel to use updated packages.\n"
     ]
    }
   ],
   "source": [
    "%pip install google-cloud-mlflow"
   ]
  },
  {
   "cell_type": "code",
   "execution_count": 21,
   "metadata": {},
   "outputs": [
    {
     "name": "stdout",
     "output_type": "stream",
     "text": [
      "1.5.2\n"
     ]
    }
   ],
   "source": [
    "import mlflow\n",
    "from mlflow.deployments import get_deploy_client\n",
    "from sklearn.model_selection import train_test_split\n",
    "from sklearn.datasets import load_diabetes \n",
    "from sklearn.ensemble import RandomForestRegressor\n",
    "import pandas as pd\n",
    "import numpy as np\n",
    "\n",
    "import sklearn\n",
    "print(sklearn.__version__)\n",
    "from sklearn.metrics import make_scorer"
   ]
  },
  {
   "cell_type": "code",
   "execution_count": 22,
   "metadata": {},
   "outputs": [
    {
     "name": "stderr",
     "output_type": "stream",
     "text": [
      "2024/09/16 00:49:23 WARNING mlflow.utils.environment: Encountered an unexpected error while inferring pip requirements (model URI: /var/folders/xd/vmrgp95576bb5rz_w_ttrvdc0000gn/T/tmptplsfhxp/model/model.pkl, flavor: sklearn), fall back to return ['scikit-learn==1.5.2', 'cloudpickle==2.2.1']. Set logging level to DEBUG to see the full traceback.\n",
      "2024/09/16 00:49:23 WARNING mlflow.utils.autologging_utils: Encountered unexpected error during sklearn autologging: No module named 'distutils'\n"
     ]
    }
   ],
   "source": [
    "# load dataset\n",
    "db = load_diabetes()\n",
    "X = db.data\n",
    "y = db.target\n",
    "X_train, X_test, y_train, y_test = train_test_split(X, y)\n",
    " \n",
    "# mlflow.sklearn.autolog() requires mlflow 1.11.0 or above.\n",
    "# mlflow.sklearn.autolog()\n",
    " \n",
    "# With autolog() enabled, all model parameters, a model score, and the fitted model are automatically logged.  \n",
    "with mlflow.start_run() as run:  \n",
    "  # Set the model parameters. \n",
    "  n_estimators = 100\n",
    "  max_depth = 6\n",
    "  max_features = 3\n",
    "  # Create and train model.\n",
    "  rf = RandomForestRegressor(n_estimators = n_estimators, max_depth = max_depth, max_features = max_features)\n",
    "  rf.fit(X_train, y_train)\n",
    "  # Use the model to make predictions on the test dataset.\n",
    "  predictions = rf.predict(X_test)\n",
    "  \n",
    "mlflow.end_run()"
   ]
  },
  {
   "cell_type": "code",
   "execution_count": null,
   "metadata": {},
   "outputs": [],
   "source": []
  },
  {
   "cell_type": "code",
   "execution_count": null,
   "metadata": {},
   "outputs": [],
   "source": []
  },
  {
   "cell_type": "code",
   "execution_count": 23,
   "metadata": {},
   "outputs": [
    {
     "name": "stderr",
     "output_type": "stream",
     "text": [
      "2024/09/16 00:49:24 WARNING mlflow.utils.environment: Encountered an unexpected error while inferring pip requirements (model URI: /var/folders/xd/vmrgp95576bb5rz_w_ttrvdc0000gn/T/tmp8dw693cj/model/model.pkl, flavor: sklearn), fall back to return ['scikit-learn==1.5.2', 'cloudpickle==2.2.1']. Set logging level to DEBUG to see the full traceback.\n"
     ]
    },
    {
     "ename": "ModuleNotFoundError",
     "evalue": "No module named 'distutils'",
     "output_type": "error",
     "traceback": [
      "\u001b[0;31m---------------------------------------------------------------------------\u001b[0m",
      "\u001b[0;31mModuleNotFoundError\u001b[0m                       Traceback (most recent call last)",
      "Cell \u001b[0;32mIn[23], line 2\u001b[0m\n\u001b[1;32m      1\u001b[0m model_name \u001b[38;5;241m=\u001b[39m \u001b[38;5;124m\"\u001b[39m\u001b[38;5;124mvertex-sklearn-blog-demo\u001b[39m\u001b[38;5;124m\"\u001b[39m\n\u001b[0;32m----> 2\u001b[0m \u001b[43mmlflow\u001b[49m\u001b[38;5;241;43m.\u001b[39;49m\u001b[43msklearn\u001b[49m\u001b[38;5;241;43m.\u001b[39;49m\u001b[43mlog_model\u001b[49m\u001b[43m(\u001b[49m\u001b[43mrf\u001b[49m\u001b[43m,\u001b[49m\u001b[43m \u001b[49m\u001b[43mmodel_name\u001b[49m\u001b[43m,\u001b[49m\u001b[43m \u001b[49m\u001b[43mregistered_model_name\u001b[49m\u001b[38;5;241;43m=\u001b[39;49m\u001b[43mmodel_name\u001b[49m\u001b[43m)\u001b[49m\n",
      "File \u001b[0;32m~/src/agent/agent/lib/python3.12/site-packages/mlflow/sklearn/__init__.py:407\u001b[0m, in \u001b[0;36mlog_model\u001b[0;34m(sk_model, artifact_path, conda_env, code_paths, serialization_format, registered_model_name, signature, input_example, await_registration_for, pip_requirements, extra_pip_requirements, pyfunc_predict_fn)\u001b[0m\n\u001b[1;32m    399\u001b[0m \u001b[38;5;28;01mdef\u001b[39;00m \u001b[38;5;21mload_model\u001b[39m(model_uri):\n\u001b[1;32m    400\u001b[0m \u001b[38;5;250m    \u001b[39m\u001b[38;5;124;03m\"\"\"\u001b[39;00m\n\u001b[1;32m    401\u001b[0m \u001b[38;5;124;03m    Load a scikit-learn model from a local file or a run.\u001b[39;00m\n\u001b[1;32m    402\u001b[0m \n\u001b[1;32m    403\u001b[0m \u001b[38;5;124;03m    :param model_uri: The location, in URI format, of the MLflow model, for example:\u001b[39;00m\n\u001b[1;32m    404\u001b[0m \n\u001b[1;32m    405\u001b[0m \u001b[38;5;124;03m                      - ``/Users/me/path/to/local/model``\u001b[39;00m\n\u001b[1;32m    406\u001b[0m \u001b[38;5;124;03m                      - ``relative/path/to/local/model``\u001b[39;00m\n\u001b[0;32m--> 407\u001b[0m \u001b[38;5;124;03m                      - ``s3://my_bucket/path/to/model``\u001b[39;00m\n\u001b[1;32m    408\u001b[0m \u001b[38;5;124;03m                      - ``runs:/<mlflow_run_id>/run-relative/path/to/model``\u001b[39;00m\n\u001b[1;32m    409\u001b[0m \u001b[38;5;124;03m                      - ``models:/<model_name>/<model_version>``\u001b[39;00m\n\u001b[1;32m    410\u001b[0m \u001b[38;5;124;03m                      - ``models:/<model_name>/<stage>``\u001b[39;00m\n\u001b[1;32m    411\u001b[0m \n\u001b[1;32m    412\u001b[0m \u001b[38;5;124;03m                      For more information about supported URI schemes, see\u001b[39;00m\n\u001b[1;32m    413\u001b[0m \u001b[38;5;124;03m                      `Referencing Artifacts <https://www.mlflow.org/docs/latest/concepts.html#\u001b[39;00m\n\u001b[1;32m    414\u001b[0m \u001b[38;5;124;03m                      artifact-locations>`_.\u001b[39;00m\n\u001b[1;32m    415\u001b[0m \n\u001b[1;32m    416\u001b[0m \u001b[38;5;124;03m    :return: A scikit-learn model.\u001b[39;00m\n\u001b[1;32m    417\u001b[0m \n\u001b[1;32m    418\u001b[0m \u001b[38;5;124;03m    .. code-block:: python\u001b[39;00m\n\u001b[1;32m    419\u001b[0m \u001b[38;5;124;03m        :caption: Example\u001b[39;00m\n\u001b[1;32m    420\u001b[0m \n\u001b[1;32m    421\u001b[0m \u001b[38;5;124;03m        import mlflow.sklearn\u001b[39;00m\n\u001b[1;32m    422\u001b[0m \u001b[38;5;124;03m        sk_model = mlflow.sklearn.load_model(\"runs:/96771d893a5e46159d9f3b49bf9013e2/sk_models\")\u001b[39;00m\n\u001b[1;32m    423\u001b[0m \n\u001b[1;32m    424\u001b[0m \u001b[38;5;124;03m        # use Pandas DataFrame to make predictions\u001b[39;00m\n\u001b[1;32m    425\u001b[0m \u001b[38;5;124;03m        pandas_df = ...\u001b[39;00m\n\u001b[1;32m    426\u001b[0m \u001b[38;5;124;03m        predictions = sk_model.predict(pandas_df)\u001b[39;00m\n\u001b[1;32m    427\u001b[0m \u001b[38;5;124;03m    \"\"\"\u001b[39;00m\n\u001b[1;32m    428\u001b[0m     local_model_path \u001b[38;5;241m=\u001b[39m _download_artifact_from_uri(artifact_uri\u001b[38;5;241m=\u001b[39mmodel_uri)\n\u001b[1;32m    429\u001b[0m     flavor_conf \u001b[38;5;241m=\u001b[39m _get_flavor_configuration(model_path\u001b[38;5;241m=\u001b[39mlocal_model_path, flavor_name\u001b[38;5;241m=\u001b[39mFLAVOR_NAME)\n",
      "File \u001b[0;32m~/src/agent/agent/lib/python3.12/site-packages/mlflow/models/model.py:374\u001b[0m, in \u001b[0;36mlog\u001b[0;34m(cls, artifact_path, flavor, registered_model_name, await_registration_for, **kwargs)\u001b[0m\n\u001b[1;32m      0\u001b[0m <Error retrieving source code with stack_data see ipython/ipython#13598>\n",
      "File \u001b[0;32m~/src/agent/agent/lib/python3.12/site-packages/mlflow/tracking/fluent.py:813\u001b[0m, in \u001b[0;36mlog_artifacts\u001b[0;34m(local_dir, artifact_path)\u001b[0m\n\u001b[1;32m      0\u001b[0m <Error retrieving source code with stack_data see ipython/ipython#13598>\n",
      "File \u001b[0;32m~/src/agent/agent/lib/python3.12/site-packages/mlflow/tracking/client.py:1182\u001b[0m, in \u001b[0;36mlog_artifacts\u001b[0;34m(self, run_id, local_dir, artifact_path)\u001b[0m\n\u001b[1;32m      0\u001b[0m <Error retrieving source code with stack_data see ipython/ipython#13598>\n",
      "File \u001b[0;32m~/src/agent/agent/lib/python3.12/site-packages/mlflow/tracking/_tracking_service/client.py:469\u001b[0m, in \u001b[0;36mlog_artifacts\u001b[0;34m(self, run_id, local_dir, artifact_path)\u001b[0m\n\u001b[1;32m      0\u001b[0m <Error retrieving source code with stack_data see ipython/ipython#13598>\n",
      "File \u001b[0;32m~/src/agent/agent/lib/python3.12/site-packages/mlflow/store/artifact/local_artifact_repo.py:58\u001b[0m, in \u001b[0;36mLocalArtifactRepository.log_artifacts\u001b[0;34m(self, local_dir, artifact_path)\u001b[0m\n\u001b[1;32m     56\u001b[0m \u001b[38;5;28;01mif\u001b[39;00m \u001b[38;5;129;01mnot\u001b[39;00m os\u001b[38;5;241m.\u001b[39mpath\u001b[38;5;241m.\u001b[39mexists(artifact_dir):\n\u001b[1;32m     57\u001b[0m     mkdir(artifact_dir)\n\u001b[0;32m---> 58\u001b[0m \u001b[43mdir_util\u001b[49m\u001b[38;5;241;43m.\u001b[39;49m\u001b[43mcopy_tree\u001b[49m\u001b[43m(\u001b[49m\u001b[43msrc\u001b[49m\u001b[38;5;241;43m=\u001b[39;49m\u001b[43mlocal_dir\u001b[49m\u001b[43m,\u001b[49m\u001b[43m \u001b[49m\u001b[43mdst\u001b[49m\u001b[38;5;241;43m=\u001b[39;49m\u001b[43martifact_dir\u001b[49m\u001b[43m,\u001b[49m\u001b[43m \u001b[49m\u001b[43mpreserve_mode\u001b[49m\u001b[38;5;241;43m=\u001b[39;49m\u001b[38;5;241;43m0\u001b[39;49m\u001b[43m,\u001b[49m\u001b[43m \u001b[49m\u001b[43mpreserve_times\u001b[49m\u001b[38;5;241;43m=\u001b[39;49m\u001b[38;5;241;43m0\u001b[39;49m\u001b[43m)\u001b[49m\n",
      "File \u001b[0;32m~/src/agent/agent/lib/python3.12/site-packages/setuptools/_distutils/dir_util.py:136\u001b[0m, in \u001b[0;36mcopy_tree\u001b[0;34m(src, dst, preserve_mode, preserve_times, preserve_symlinks, update, verbose, dry_run)\u001b[0m\n\u001b[1;32m    107\u001b[0m \u001b[38;5;28;01mdef\u001b[39;00m \u001b[38;5;21mcopy_tree\u001b[39m(  \u001b[38;5;66;03m# noqa: C901\u001b[39;00m\n\u001b[1;32m    108\u001b[0m     src,\n\u001b[1;32m    109\u001b[0m     dst,\n\u001b[0;32m   (...)\u001b[0m\n\u001b[1;32m    115\u001b[0m     dry_run\u001b[38;5;241m=\u001b[39m\u001b[38;5;241m0\u001b[39m,\n\u001b[1;32m    116\u001b[0m ):\n\u001b[1;32m    117\u001b[0m \u001b[38;5;250m    \u001b[39m\u001b[38;5;124;03m\"\"\"Copy an entire directory tree 'src' to a new location 'dst'.\u001b[39;00m\n\u001b[1;32m    118\u001b[0m \n\u001b[1;32m    119\u001b[0m \u001b[38;5;124;03m    Both 'src' and 'dst' must be directory names.  If 'src' is not a\u001b[39;00m\n\u001b[0;32m   (...)\u001b[0m\n\u001b[1;32m    134\u001b[0m \u001b[38;5;124;03m    'update' and 'verbose' are the same as for 'copy_file'.\u001b[39;00m\n\u001b[1;32m    135\u001b[0m \u001b[38;5;124;03m    \"\"\"\u001b[39;00m\n\u001b[0;32m--> 136\u001b[0m     \u001b[38;5;28;01mfrom\u001b[39;00m \u001b[38;5;21;01mdistutils\u001b[39;00m\u001b[38;5;21;01m.\u001b[39;00m\u001b[38;5;21;01mfile_util\u001b[39;00m \u001b[38;5;28;01mimport\u001b[39;00m copy_file\n\u001b[1;32m    138\u001b[0m     \u001b[38;5;28;01mif\u001b[39;00m \u001b[38;5;129;01mnot\u001b[39;00m dry_run \u001b[38;5;129;01mand\u001b[39;00m \u001b[38;5;129;01mnot\u001b[39;00m os\u001b[38;5;241m.\u001b[39mpath\u001b[38;5;241m.\u001b[39misdir(src):\n\u001b[1;32m    139\u001b[0m         \u001b[38;5;28;01mraise\u001b[39;00m DistutilsFileError(\u001b[38;5;124m\"\u001b[39m\u001b[38;5;124mcannot copy tree \u001b[39m\u001b[38;5;124m'\u001b[39m\u001b[38;5;132;01m%s\u001b[39;00m\u001b[38;5;124m'\u001b[39m\u001b[38;5;124m: not a directory\u001b[39m\u001b[38;5;124m\"\u001b[39m \u001b[38;5;241m%\u001b[39m src)\n",
      "\u001b[0;31mModuleNotFoundError\u001b[0m: No module named 'distutils'"
     ]
    }
   ],
   "source": [
    "model_name = \"vertex-sklearn-blog-demo\"\n",
    "mlflow.sklearn.log_model(rf, model_name, registered_model_name=model_name)"
   ]
  },
  {
   "cell_type": "code",
   "execution_count": null,
   "metadata": {},
   "outputs": [
    {
     "ename": "AttributeError",
     "evalue": "module 'mlflow.tracking' has no attribute 'MLflowClient'",
     "output_type": "error",
     "traceback": [
      "\u001b[0;31m---------------------------------------------------------------------------\u001b[0m",
      "\u001b[0;31mAttributeError\u001b[0m                            Traceback (most recent call last)",
      "Cell \u001b[0;32mIn[13], line 1\u001b[0m\n\u001b[0;32m----> 1\u001b[0m client \u001b[38;5;241m=\u001b[39m \u001b[43mmlflow\u001b[49m\u001b[38;5;241;43m.\u001b[39;49m\u001b[43mtracking\u001b[49m\u001b[38;5;241;43m.\u001b[39;49m\u001b[43mMLflowClient\u001b[49m()\n\u001b[1;32m      2\u001b[0m model_version_infos \u001b[38;5;241m=\u001b[39m client\u001b[38;5;241m.\u001b[39msearch_model_versions(\u001b[38;5;124mf\u001b[39m\u001b[38;5;124m\"\u001b[39m\u001b[38;5;124mname = \u001b[39m\u001b[38;5;124m'\u001b[39m\u001b[38;5;132;01m{\u001b[39;00mmodel_name\u001b[38;5;132;01m}\u001b[39;00m\u001b[38;5;124m'\u001b[39m\u001b[38;5;124m\"\u001b[39m)\n\u001b[1;32m      3\u001b[0m model_version \u001b[38;5;241m=\u001b[39m \u001b[38;5;28mmax\u001b[39m([\u001b[38;5;28mint\u001b[39m(model_version_info\u001b[38;5;241m.\u001b[39mversion) \u001b[38;5;28;01mfor\u001b[39;00m model_version_info \u001b[38;5;129;01min\u001b[39;00m model_version_infos])\n",
      "\u001b[0;31mAttributeError\u001b[0m: module 'mlflow.tracking' has no attribute 'MLflowClient'"
     ]
    }
   ],
   "source": [
    "client = mlflow.tracking.MLflowClient()\n",
    "model_version_infos = client.search_model_versions(f\"name = '{model_name}'\")\n",
    "model_version = max([int(model_version_info.version) for model_version_info in model_version_infos])\n",
    "model_uri=f\"models:/{model_name}/{model_version}\"\n",
    "\n",
    "# model_uri should be models:/vertex-sklearn-blog-demo/1"
   ]
  },
  {
   "cell_type": "code",
   "execution_count": null,
   "metadata": {},
   "outputs": [],
   "source": [
    "# Really simple Vertex client instantiation\n",
    "vtx_client = mlflow.deployments.get_deploy_client(\"google_cloud\")\n",
    "deploy_name = f\"{model_name}-{model_version}\"\n",
    "\n",
    "# Deploy to Vertex AI using three lines of code! Note: If using python > 3.7, this may take up to 20 minutes.\n",
    "deployment = vtx_client.create_deployment(\n",
    "    name=deploy_name,\n",
    "    model_uri=model_uri)"
   ]
  },
  {
   "cell_type": "code",
   "execution_count": null,
   "metadata": {},
   "outputs": [],
   "source": [
    "# Use the .predict() method from the same plugin\n",
    "predictions = vtx_client.predict(deploy_name, X_test)"
   ]
  },
  {
   "cell_type": "code",
   "execution_count": null,
   "metadata": {},
   "outputs": [],
   "source": [
    "mlflow.end_run()"
   ]
  }
 ],
 "metadata": {
  "kernelspec": {
   "display_name": "agent",
   "language": "python",
   "name": "python3"
  },
  "language_info": {
   "codemirror_mode": {
    "name": "ipython",
    "version": 3
   },
   "file_extension": ".py",
   "mimetype": "text/x-python",
   "name": "python",
   "nbconvert_exporter": "python",
   "pygments_lexer": "ipython3",
   "version": "3.12.6"
  }
 },
 "nbformat": 4,
 "nbformat_minor": 2
}
